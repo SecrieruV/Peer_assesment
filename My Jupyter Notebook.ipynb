{
    "cells": [
        {
            "metadata": {
                "collapsed": true
            },
            "cell_type": "markdown",
            "source": "# My Jupyter Notebook on IBM Watson Studio\n"
        },
        {
            "metadata": {},
            "cell_type": "markdown",
            "source": "**Vladislav Secrieru**  \nData Scientist"
        },
        {
            "metadata": {},
            "cell_type": "markdown",
            "source": "I am interested in data science because the world become more complex and the data science is the key to a prosperous future"
        },
        {
            "metadata": {},
            "cell_type": "markdown",
            "source": "### The code below represents the possibilities that Jupiter Notebook gives. In that particulat example it operate the matematical performs a mathematical operation of exponentiation 2 in the pawer of 4. we enter the mathematical operation and after running the code recive the output 16"
        },
        {
            "metadata": {},
            "cell_type": "code",
            "source": "2**4",
            "execution_count": 2,
            "outputs": [
                {
                    "output_type": "execute_result",
                    "execution_count": 2,
                    "data": {
                        "text/plain": "16"
                    },
                    "metadata": {}
                }
            ]
        },
        {
            "metadata": {},
            "cell_type": "markdown",
            "source": "Horizontal Rule\n***\nQuote break.\n>Test 1\n\n>Test 1\n___\n| Tables        | Are           |  Cool |\n| ------------- |:-------------:|-------:\n| col 3 is      | right-aligned |  \\$123 |\n| col 2 is      | centered      |  \\$12  |\n| zebra stripes | are neat      |  \\$1   |\n"
        }
    ],
    "metadata": {
        "kernelspec": {
            "name": "python3",
            "display_name": "Python 3.9",
            "language": "python"
        },
        "language_info": {
            "name": "python",
            "version": "3.9.12",
            "mimetype": "text/x-python",
            "codemirror_mode": {
                "name": "ipython",
                "version": 3
            },
            "pygments_lexer": "ipython3",
            "nbconvert_exporter": "python",
            "file_extension": ".py"
        }
    },
    "nbformat": 4,
    "nbformat_minor": 1
}